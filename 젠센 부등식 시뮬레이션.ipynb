{
 "cells": [
  {
   "cell_type": "code",
   "execution_count": 1,
   "metadata": {},
   "outputs": [],
   "source": [
    "import pandas as pd\n",
    "import numpy as np\n",
    "import matplotlib.pyplot as plt\n",
    "import matplotlib as mpl\n",
    "import seaborn as sns\n",
    "from scipy import stats\n",
    "from pprint import pprint\n",
    "import sys\n",
    "from colorama import Style, Fore\n",
    "\n",
    "rc = {\n",
    "    \"axes.facecolor\": \"#F6F6F6\",\n",
    "    \"figure.facecolor\": \"#F6F6F6\",\n",
    "    \"axes.edgecolor\": \"#000000\",\n",
    "    \"grid.color\": \"#EBEBE7\",\n",
    "    \"font.family\": \"serif\",\n",
    "    \"axes.labelcolor\": \"#000000\",\n",
    "    \"xtick.color\": \"#000000\",\n",
    "    \"ytick.color\": \"#000000\",\n",
    "    \"grid.alpha\": 0.4\n",
    "}\n",
    "\n",
    "sns.set(rc=rc)\n",
    "\n",
    "\n",
    "red = Style.BRIGHT + Fore.RED\n",
    "blu = Style.BRIGHT + Fore.BLUE\n",
    "mgt = Style.BRIGHT + Fore.MAGENTA\n",
    "gld = Style.BRIGHT + Fore.YELLOW\n",
    "res = Style.RESET_ALL"
   ]
  },
  {
   "cell_type": "code",
   "execution_count": 2,
   "metadata": {},
   "outputs": [],
   "source": [
    "from scipy import stats as st\n",
    "\n",
    "import IPython.display as ipyd\n",
    "from matplotlib import animation \n",
    "import matplotlib.cm as cm"
   ]
  },
  {
   "cell_type": "code",
   "execution_count": 73,
   "metadata": {},
   "outputs": [],
   "source": [
    "def build_gif(imgs, saveto, interval=0.1, dpi=72, save_gif=True, cmap=None):\n",
    "    imgs = np.asarray(imgs)\n",
    "    h, w, *c = imgs[0].shape\n",
    "    fig, ax = plt.subplots(figsize=(np.round(w / dpi), np.round(h / dpi)))\n",
    "    fig.subplots_adjust(bottom=0)\n",
    "    fig.subplots_adjust(top=1)\n",
    "    fig.subplots_adjust(right=1)\n",
    "    fig.subplots_adjust(left=0)\n",
    "    ax.set_axis_off()\n",
    "\n",
    "    if cmap is not None:\n",
    "        axs = list(map(lambda x: [\n",
    "            ax.imshow(x, cmap=cmap)], imgs))\n",
    "    else:\n",
    "        axs = list(map(lambda x: [\n",
    "            ax.imshow(x)], imgs))\n",
    "\n",
    "    ani = animation.ArtistAnimation(\n",
    "        fig, axs, interval=interval*1000, repeat_delay=0, blit=True)\n",
    "\n",
    "    if save_gif:\n",
    "        ani.save(saveto, writer='pillow', dpi=dpi)\n",
    "\n",
    "    return ani\n",
    "\n",
    "def concave(x):\n",
    "    return -x**2\n",
    "\n",
    "def convex(x):\n",
    "    return x**2"
   ]
  },
  {
   "cell_type": "code",
   "execution_count": 80,
   "metadata": {},
   "outputs": [],
   "source": [
    "np.random.seed(71)\n",
    "\n",
    "n_iter = 30\n",
    "xx = np.linspace(-3,3,101)\n",
    "m = np.linspace(-2,2,n_iter)\n",
    "\n",
    "for i in range(n_iter):\n",
    "    \n",
    "    x = np.random.normal(m[i],1,size=1000)\n",
    "    x2 = concave(x)\n",
    "    df = pd.DataFrame(np.c_[x, x2], columns=(\"x\",\"x2\"))\n",
    "\n",
    "    x_mean = df.x.mean()\n",
    "    x2_mean = df.x2.mean()\n",
    "\n",
    "    g = sns.jointplot(data=df, x = x, y = x2, kind=\"scatter\", xlim = [-3,3], ylim = [-10,1],\n",
    "                color=\"b\", size=7, zorder=50)\n",
    "\n",
    "    g.ax_joint.plot(xx, concave(xx), \"--\", color=\"gray\")\n",
    "    g.ax_joint.plot([x_mean, x_mean],[-11, 1], ':k', zorder=50)\n",
    "    g.ax_joint.plot([-3, 3],[x2_mean, x2_mean], ':k', zorder=50)\n",
    "\n",
    "    g.ax_joint.scatter(x_mean , concave(x_mean), c=\"r\", s=100, zorder=100)\n",
    "    g.ax_joint.scatter(x_mean , np.mean(concave(df.x)), c=\"g\", s=100, zorder=100)\n",
    "\n",
    "    plt.text(x = x_mean + 0.3 , y = concave(x_mean), s = 'f(E[X])', c = 'r')\n",
    "    plt.text(x = x_mean + 0.3 , y = np.mean(concave(df.x) ), s = 'E[f(X)]', c = 'g')\n",
    "    plt.suptitle('Concave 일 시 젠센 부등식 시뮬레이션', fontfamily = 'malgun gothic', y = 1.1)\n",
    "    plt.savefig(\"C:/Users/whileduck/Desktop/젠센 부등식/concave_{}\".format(i), dpi=128,)\n",
    "    plt.close()"
   ]
  },
  {
   "cell_type": "code",
   "execution_count": 81,
   "metadata": {},
   "outputs": [],
   "source": [
    "np.random.seed(71)\n",
    "\n",
    "n_iter = 30\n",
    "xx = np.linspace(-3,3,101)\n",
    "m = np.linspace(-2,2,n_iter)\n",
    "\n",
    "for i in range(n_iter):\n",
    "    \n",
    "    x = np.random.normal(m[i],1,size=1000)\n",
    "    x2 = convex(x)\n",
    "    df = pd.DataFrame(np.c_[x, x2], columns=(\"x\",\"x2\"))\n",
    "\n",
    "    x_mean = df.x.mean()\n",
    "    x2_mean = df.x2.mean()\n",
    "\n",
    "    g = sns.jointplot(data=df, x = x, y = x2, kind=\"scatter\", xlim = [-3,3], ylim = [-1,5],\n",
    "                color=\"b\", size=7, zorder=50)\n",
    "\n",
    "    g.ax_joint.plot(xx, convex(xx), \"--\", color=\"gray\")\n",
    "    g.ax_joint.plot([x_mean, x_mean],[-5, 5], ':k', zorder=50)\n",
    "    g.ax_joint.plot([-3, 3],[x2_mean, x2_mean], ':k', zorder=50)\n",
    "\n",
    "    g.ax_joint.scatter(x_mean , convex(x_mean), c=\"r\", s=100, zorder=100)\n",
    "    g.ax_joint.scatter(x_mean , np.mean(convex(df.x)), c=\"g\", s=100, zorder=100)\n",
    "\n",
    "    plt.text(x = x_mean + 0.3 , y = convex(x_mean) - 0.5, s = 'f(E[X])', c = 'r')\n",
    "    plt.text(x = x_mean + 0.3 , y = np.mean(convex(df.x) - 0.5), s = 'E[f(X)]', c = 'g')\n",
    "    plt.savefig(\"C:/Users/whileduck/Desktop/젠센 부등식/convex_{}\".format(i), dpi=128,)\n",
    "    plt.close()"
   ]
  },
  {
   "cell_type": "code",
   "execution_count": 82,
   "metadata": {},
   "outputs": [
    {
     "data": {
      "text/plain": [
       "True"
      ]
     },
     "execution_count": 82,
     "metadata": {},
     "output_type": "execute_result"
    }
   ],
   "source": [
    "import os\n",
    "from PIL import Image\n",
    "import imageio\n",
    "\n",
    "file_path = 'C:/Users/whileduck/Desktop/젠센 부등식/'\n",
    "\n",
    "img_files = [f'concave_{i}.png' for i in range(30)]\n",
    "\n",
    "imges = [Image.open(os.path.join(file_path, img_file)) for img_file in img_files]\n",
    "\n",
    "output_gif_path = \"concave.gif\"\n",
    "\n",
    "imageio.mimsave(output_gif_path, imges, duration=0.2)\n",
    "\n",
    "# Open the saved GIF using the default viewer\n",
    "import webbrowser\n",
    "webbrowser.open(output_gif_path)"
   ]
  },
  {
   "cell_type": "code",
   "execution_count": 84,
   "metadata": {},
   "outputs": [
    {
     "data": {
      "text/plain": [
       "True"
      ]
     },
     "execution_count": 84,
     "metadata": {},
     "output_type": "execute_result"
    }
   ],
   "source": [
    "import os\n",
    "from PIL import Image\n",
    "import imageio\n",
    "\n",
    "file_path = 'C:/Users/whileduck/Desktop/젠센 부등식/'\n",
    "\n",
    "img_files = [f'convex_{i}.png' for i in range(30)]\n",
    "\n",
    "imges = [Image.open(os.path.join(file_path, img_file)) for img_file in img_files]\n",
    "\n",
    "output_gif_path = \"convex.gif\"\n",
    "\n",
    "imageio.mimsave(output_gif_path, imges, duration=0.2)\n",
    "\n",
    "# Open the saved GIF using the default viewer\n",
    "import webbrowser\n",
    "webbrowser.open(output_gif_path)"
   ]
  }
 ],
 "metadata": {
  "kernelspec": {
   "display_name": "base",
   "language": "python",
   "name": "python3"
  },
  "language_info": {
   "codemirror_mode": {
    "name": "ipython",
    "version": 3
   },
   "file_extension": ".py",
   "mimetype": "text/x-python",
   "name": "python",
   "nbconvert_exporter": "python",
   "pygments_lexer": "ipython3",
   "version": "3.9.13"
  },
  "orig_nbformat": 4
 },
 "nbformat": 4,
 "nbformat_minor": 2
}
