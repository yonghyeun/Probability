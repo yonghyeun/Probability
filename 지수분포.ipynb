{
 "cells": [
  {
   "cell_type": "code",
   "execution_count": 52,
   "metadata": {},
   "outputs": [],
   "source": [
    "import numpy as np\n",
    "import matplotlib.pyplot as plt\n",
    "import math \n",
    "import seaborn as sns \n",
    "import warnings\n",
    "from scipy import stats\n",
    "\n",
    "rc = {\n",
    "    \"axes.facecolor\": \"#F6F6F6\",\n",
    "    \"figure.facecolor\": \"#F6F6F6\",\n",
    "    \"axes.edgecolor\": \"#000000\",\n",
    "    \"grid.color\": \"#EBEBE7\",\n",
    "    \"font.family\": \"malgun gothic\",\n",
    "    \"axes.labelcolor\": \"#000000\",\n",
    "    \"xtick.color\": \"#000000\",\n",
    "    \"ytick.color\": \"#000000\",\n",
    "    \"grid.alpha\": 1\n",
    "}\n",
    "\n",
    "plt.rc('axes', unicode_minus=False)\n",
    "sns.set(rc=rc)\n",
    "warnings.filterwarnings(action = 'ignore')"
   ]
  },
  {
   "cell_type": "markdown",
   "metadata": {},
   "source": [
    "# **지수분포**"
   ]
  },
  {
   "cell_type": "code",
   "execution_count": 60,
   "metadata": {},
   "outputs": [],
   "source": [
    "class Expo:\n",
    "    \n",
    "    def __init__(self,lamb):\n",
    "        \n",
    "        self.lamb = lamb\n",
    "        \n",
    "    def possion(self):\n",
    "        '''\n",
    "        포아송 분포를 따르는 1 단위 시간 내 \n",
    "        0 번 성공 할 확률 \n",
    "        '''\n",
    "        k = 0 \n",
    "        return (np.exp(-self.lamb) * self.lamb ** k)/math.factorial(k)\n",
    "    \n",
    "    def cdf(self,t):\n",
    "        '''\n",
    "        단위 시간 내 처음 성공할 때 까지의 기간\n",
    "        \n",
    "        전체 확률 - t 번 이하까지 모두 실패 할 확률 = t 번 이상 성공 할 확률 \n",
    "        \n",
    "        t 단위 기간 동안 성공하지 않아야 하기 때문에 \n",
    "        \n",
    "        포아송분포의 pmf ** t \n",
    "        '''\n",
    "        \n",
    "        return 1 - self.possion() **t\n",
    "    \n",
    "    def pmf(self,t):\n",
    "        '''\n",
    "        Exponential distribution의 CDF 를 t 에 대해 미분하여 구한\n",
    "        확률밀도함수\n",
    "        '''\n",
    "        \n",
    "        return self.lamb * np.exp(-self.lamb * t)\n",
    "    \n",
    "    def sf(self,t):\n",
    "        '''\n",
    "        survival fucntion 으로 CDF 가 P(X <= x) 를 계산했다면\n",
    "        \n",
    "        sf 는 P(X >= x) 를 계산하기 위해 1 - P(X <= x) \n",
    "        \n",
    "        '''\n",
    "        return 1 - self.cdf(t) \n",
    "        \n",
    "    \n",
    "    def memmoryless(self,s,t):\n",
    "        '''\n",
    "        단위기간 s 동안 시간이 지난 후  \n",
    "        t 안에 사건이 일어날 확률\n",
    "        \n",
    "        지수분포는 무기억성을 가지고 있기 때문에 \n",
    "        지나가버린 s 기간 동안에 대한 정보는 도움을 주지 않음 \n",
    "        \n",
    "        P(X >= s + t  , X >= s| X >= s) 인데 X>= s+t 와 X >= s 의 교집합은 X >= s+t \n",
    "        \n",
    "        식은 \n",
    "        \n",
    "        P(X >= s+t) / P(X >= s) 가 됨\n",
    "        '''\n",
    "        \n",
    "        S = self.sf(s)\n",
    "        ST = self.sf(s + t)\n",
    "        \n",
    "        print('P(X >= s + t) :' , ST)\n",
    "        print('P(X >= s) :', S)\n",
    "        print('\\n')\n",
    "        \n",
    "        T = self.sf(t)\n",
    "        \n",
    "        print('P(X >= s + t)|P(X >= s) : ', round(ST / S,8))\n",
    "        print('P(X >= t) : ', round(T , 8))"
   ]
  },
  {
   "cell_type": "code",
   "execution_count": 61,
   "metadata": {},
   "outputs": [],
   "source": [
    "expo = Expo(lamb = 0.2)"
   ]
  },
  {
   "cell_type": "code",
   "execution_count": 62,
   "metadata": {},
   "outputs": [
    {
     "data": {
      "text/plain": [
       "0.8187307530779818"
      ]
     },
     "execution_count": 62,
     "metadata": {},
     "output_type": "execute_result"
    }
   ],
   "source": [
    "expo.possion()"
   ]
  },
  {
   "cell_type": "code",
   "execution_count": 63,
   "metadata": {},
   "outputs": [
    {
     "data": {
      "text/plain": [
       "[<matplotlib.lines.Line2D at 0x16a139b4c70>]"
      ]
     },
     "execution_count": 63,
     "metadata": {},
     "output_type": "execute_result"
    },
    {
     "data": {
      "image/png": "[encoded data removed]",
      "text/plain": [
       "<Figure size 1000x500 with 1 Axes>"
      ]
     },
     "metadata": {},
     "output_type": "display_data"
    }
   ],
   "source": [
    "X = np.linspace(0,5,100)\n",
    "plt.figure(figsize = (10,5))\n",
    "plt.plot(X,expo.pmf(X))"
   ]
  },
  {
   "cell_type": "code",
   "execution_count": 64,
   "metadata": {},
   "outputs": [
    {
     "data": {
      "text/plain": [
       "0.6321205588285577"
      ]
     },
     "execution_count": 64,
     "metadata": {},
     "output_type": "execute_result"
    }
   ],
   "source": [
    "stats.expon(scale = 1/0.2).cdf(5)"
   ]
  },
  {
   "cell_type": "code",
   "execution_count": 65,
   "metadata": {},
   "outputs": [
    {
     "data": {
      "text/plain": [
       "0.6321205588285578"
      ]
     },
     "execution_count": 65,
     "metadata": {},
     "output_type": "execute_result"
    }
   ],
   "source": [
    "expo.cdf(5)"
   ]
  },
  {
   "cell_type": "code",
   "execution_count": 66,
   "metadata": {},
   "outputs": [
    {
     "name": "stdout",
     "output_type": "stream",
     "text": [
      "P(X >= s + t) : 0.20189651799465536\n",
      "P(X >= s) : 0.5488116360940264\n",
      "\n",
      "\n",
      "P(X >= s + t)|P(X >= s) :  0.36787944\n",
      "P(X >= t) :  0.36787944\n"
     ]
    }
   ],
   "source": [
    "expo.memmoryless(s = 3 , t = 5)"
   ]
  }
 ],
 "metadata": {
  "kernelspec": {
   "display_name": "base",
   "language": "python",
   "name": "python3"
  },
  "language_info": {
   "codemirror_mode": {
    "name": "ipython",
    "version": 3
   },
   "file_extension": ".py",
   "mimetype": "text/x-python",
   "name": "python",
   "nbconvert_exporter": "python",
   "pygments_lexer": "ipython3",
   "version": "3.9.13"
  },
  "orig_nbformat": 4
 },
 "nbformat": 4,
 "nbformat_minor": 2
}
